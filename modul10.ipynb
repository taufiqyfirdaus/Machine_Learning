{
  "nbformat": 4,
  "nbformat_minor": 0,
  "metadata": {
    "colab": {
      "provenance": [],
      "toc_visible": true,
      "gpuType": "T4",
      "include_colab_link": true
    },
    "kernelspec": {
      "name": "python3",
      "display_name": "Python 3"
    },
    "language_info": {
      "name": "python"
    },
    "accelerator": "GPU"
  },
  "cells": [
    {
      "cell_type": "markdown",
      "metadata": {
        "id": "view-in-github",
        "colab_type": "text"
      },
      "source": [
        "<a href=\"https://colab.research.google.com/github/taufiqyfirdaus/Machine_Learning/blob/main/modul10.ipynb\" target=\"_parent\"><img src=\"https://colab.research.google.com/assets/colab-badge.svg\" alt=\"Open In Colab\"/></a>"
      ]
    },
    {
      "cell_type": "markdown",
      "source": [
        "Nama  : Taufiqy Firdaus Jatu\n",
        "\n",
        "NIM   : 2141720124\n",
        "\n",
        "Kelas : TI-3G"
      ],
      "metadata": {
        "id": "zuIoS8eRvbnS"
      }
    },
    {
      "cell_type": "markdown",
      "source": [
        "---\n",
        "## **Praktikum 1**\n"
      ],
      "metadata": {
        "id": "nTmPm10ytr5p"
      }
    },
    {
      "cell_type": "markdown",
      "source": [
        "**1. Setup**"
      ],
      "metadata": {
        "id": "DXhYeyoL_sOP"
      }
    },
    {
      "cell_type": "code",
      "source": [
        "import numpy as np\n",
        "import tensorflow_datasets as tfds\n",
        "import tensorflow as tf\n",
        "\n",
        "tfds.disable_progress_bar()"
      ],
      "metadata": {
        "id": "U_G9T5jyACCm"
      },
      "execution_count": 1,
      "outputs": []
    },
    {
      "cell_type": "code",
      "source": [
        "import matplotlib.pyplot as plt\n",
        "\n",
        "def plot_graphs(history, metric):\n",
        " plt.plot(history.history['val_'+metric], '')\n",
        " plt.plot(history.history[metric])\n",
        " plt.xlabel(\"Epochs\")\n",
        " plt.ylabel(metric)\n",
        " plt.legend([metric, 'val_'+metric])"
      ],
      "metadata": {
        "id": "kKGrpWjmADRd"
      },
      "execution_count": 2,
      "outputs": []
    },
    {
      "cell_type": "markdown",
      "source": [
        "**2. Setup input pipeline**\n"
      ],
      "metadata": {
        "id": "wCQbWXUsAPhh"
      }
    },
    {
      "cell_type": "code",
      "source": [
        "dataset, info = tfds.load('imdb_reviews', with_info=True,\n",
        "                          as_supervised=True)\n",
        "train_dataset, test_dataset = dataset['train'], dataset['test']\n",
        "\n",
        "train_dataset.element_spec"
      ],
      "metadata": {
        "colab": {
          "base_uri": "https://localhost:8080/"
        },
        "id": "EsVOgoJkAa5k",
        "outputId": "1a531568-d07b-441f-cd98-7d0ddf4a4483"
      },
      "execution_count": 3,
      "outputs": [
        {
          "output_type": "stream",
          "name": "stdout",
          "text": [
            "Downloading and preparing dataset 80.23 MiB (download: 80.23 MiB, generated: Unknown size, total: 80.23 MiB) to /root/tensorflow_datasets/imdb_reviews/plain_text/1.0.0...\n",
            "Dataset imdb_reviews downloaded and prepared to /root/tensorflow_datasets/imdb_reviews/plain_text/1.0.0. Subsequent calls will reuse this data.\n"
          ]
        },
        {
          "output_type": "execute_result",
          "data": {
            "text/plain": [
              "(TensorSpec(shape=(), dtype=tf.string, name=None),\n",
              " TensorSpec(shape=(), dtype=tf.int64, name=None))"
            ]
          },
          "metadata": {},
          "execution_count": 3
        }
      ]
    },
    {
      "cell_type": "code",
      "source": [
        "for example, label in train_dataset.take(1):\n",
        "  print('text: ', example.numpy())\n",
        "  print('label: ', label.numpy())"
      ],
      "metadata": {
        "colab": {
          "base_uri": "https://localhost:8080/"
        },
        "id": "WScf05dgAduT",
        "outputId": "eee425d3-c239-412a-e368-1f66d416b542"
      },
      "execution_count": 4,
      "outputs": [
        {
          "output_type": "stream",
          "name": "stdout",
          "text": [
            "text:  b\"This was an absolutely terrible movie. Don't be lured in by Christopher Walken or Michael Ironside. Both are great actors, but this must simply be their worst role in history. Even their great acting could not redeem this movie's ridiculous storyline. This movie is an early nineties US propaganda piece. The most pathetic scenes were those when the Columbian rebels were making their cases for revolutions. Maria Conchita Alonso appeared phony, and her pseudo-love affair with Walken was nothing but a pathetic emotional plug in a movie that was devoid of any real meaning. I am disappointed that there are movies like this, ruining actor's like Christopher Walken's good name. I could barely sit through it.\"\n",
            "label:  0\n"
          ]
        }
      ]
    },
    {
      "cell_type": "code",
      "source": [
        "BUFFER_SIZE = 10000\n",
        "BATCH_SIZE = 64\n",
        "\n",
        "train_dataset = train_dataset.shuffle(BUFFER_SIZE).batch(BATCH_SIZE).prefetch(tf.data.AUTOTUNE)\n",
        "test_dataset = test_dataset.batch(BATCH_SIZE).prefetch(tf.data.AUTOTUNE)\n",
        "\n",
        "for example, label in train_dataset.take(1):\n",
        "  print('texts: ', example.numpy()[:3])\n",
        "  print()\n",
        "  print('labels: ', label.numpy()[:3])\n"
      ],
      "metadata": {
        "colab": {
          "base_uri": "https://localhost:8080/"
        },
        "id": "fU5aw5yUAlVz",
        "outputId": "12c3e14e-b211-4c39-ca79-202a3aeeb9f6"
      },
      "execution_count": 5,
      "outputs": [
        {
          "output_type": "stream",
          "name": "stdout",
          "text": [
            "texts:  [b'Remember the chain-smoking channeler exposed on 60 Minutes a few years ago? This is her. Lots of folks reviewed this movie without checking the bona fides of the filmmakers. The producers have been using phony \"word of mouth\" promotions very successfully without disclosing the financial and philosophical underpinnings for this piece of marketing tripe. If you believe in channeling, reincarnation, new age dreck and day-old baloney, this film is for you. If you want a discussion of quantum physics or reality, look elsewhere. The purpose of this movie is to convince you that Ramtha isn\\'t a wacko, so you\\'ll give her a bunch of your money. If you can tiptoe through the Ramtha website without howling in disbelief, then maybe you\\'ll think the bucks you dropped on this infomercial for insanity was well spent. <http://rogerebert.suntimes.com/apps/pbcs.dll/section?category=ANSWERMAN>'\n",
            " b'I saw this \"hot\" movie when it came out in 1986. It had a X rating for a brief scene involving oral sex but played in mainstream theatres (it was an \"art\" film). Supposedly it\\'s the first film to ever show a respected actress in an explicit sex scene.<br /><br />What I saw was a boring tale about a high school boy (Federico Pitzalis) in love (understandably) with an older woman (Maruschka Detmers). As has been mentioned before Detmers is very beautiful with a good body BUT she also gave a very good performance. Pitzalis was (to put it mildly) pretty poor. It\\'s no wonder he never made another movie. Still, despite the infamous sex scene (which is explicit but pretty brief), this a slow moving dull story which bored me silly. The good acting by Detmers only helped to a certain point. Mostly I was looking at my watch waiting patiently for it to end. If it didn\\'t have that sequence this movie would have been forgotten long ago. Dull and slow. You can skip this one.'\n",
            " b\"I simply cant understand why all these relics from the Ceausescu era refuse to let go. One can see clearly how frustrated they were during the commie censorship that forbade them so many things to show in their movies, and now they imagine its dunno what big deal of artsy-fartsy freedom so fill the screen with people defecating, urinating, vomiting, swearing, and any other kinds of hideousness imaginable. THIS IS NOT CINEMA, FRIENDS AND NEIGHBORS! This is simply visual perversion. Forget about Bunuels Chien Andalou, about David Lynch, about Forman and neorealism and other movie makers who were able to work with an aesthetics of ugliness. THOSE people were mastering their jobs - well, you Don't! Do us a favor, all you Daneliucs and Nicolaescus and Saizescus and Muresans and Marinescus and Margineanus and other obsolete old-timers, and leave us alone! Its bit time to see some Romanian MOVIES on screen, enough with your immature terribilisms! You are not directors, you are ILLITERATE!!!\"]\n",
            "\n",
            "labels:  [0 0 0]\n"
          ]
        }
      ]
    },
    {
      "cell_type": "markdown",
      "source": [
        "**3. Buat Teks Encoder**"
      ],
      "metadata": {
        "id": "-Q5aOoeWAnZq"
      }
    },
    {
      "cell_type": "code",
      "source": [
        "VOCAB_SIZE = 1000\n",
        "encoder = tf.keras.layers.TextVectorization(\n",
        "    max_tokens=VOCAB_SIZE)\n",
        "encoder.adapt(train_dataset.map(lambda text, label: text))"
      ],
      "metadata": {
        "id": "Qy1qgczmAstg"
      },
      "execution_count": 6,
      "outputs": []
    },
    {
      "cell_type": "code",
      "source": [
        "vocab=np.array(encoder.get_vocabulary())\n",
        "vocab[:20]"
      ],
      "metadata": {
        "colab": {
          "base_uri": "https://localhost:8080/"
        },
        "id": "vpy-AMG4Avbp",
        "outputId": "f592191c-1e3a-46b2-eeac-8f2541dab680"
      },
      "execution_count": 7,
      "outputs": [
        {
          "output_type": "execute_result",
          "data": {
            "text/plain": [
              "array(['', '[UNK]', 'the', 'and', 'a', 'of', 'to', 'is', 'in', 'it', 'i',\n",
              "       'this', 'that', 'br', 'was', 'as', 'for', 'with', 'movie', 'but'],\n",
              "      dtype='<U14')"
            ]
          },
          "metadata": {},
          "execution_count": 7
        }
      ]
    },
    {
      "cell_type": "code",
      "source": [
        "encoded_example=encoder(example)[:3].numpy()\n",
        "encoded_example"
      ],
      "metadata": {
        "colab": {
          "base_uri": "https://localhost:8080/"
        },
        "id": "BXfTON_KAzIR",
        "outputId": "57240138-c1bb-440f-b52a-6069a9e42dcb"
      },
      "execution_count": 8,
      "outputs": [
        {
          "output_type": "execute_result",
          "data": {
            "text/plain": [
              "array([[364,   2,   1, ...,   0,   0,   0],\n",
              "       [ 10, 208,  11, ...,   0,   0,   0],\n",
              "       [ 10, 316, 175, ...,   0,   0,   0]])"
            ]
          },
          "metadata": {},
          "execution_count": 8
        }
      ]
    },
    {
      "cell_type": "code",
      "source": [
        "for n in range(3):\n",
        "  print(\"Original: \", example[n].numpy())\n",
        "  print(\"Round-trip: \", \" \".join(vocab[encoded_example[n]]))\n",
        "  print()"
      ],
      "metadata": {
        "colab": {
          "base_uri": "https://localhost:8080/"
        },
        "id": "GGr7iMN6A4dW",
        "outputId": "5a3ad912-8325-4f03-d460-f03fcae0d170"
      },
      "execution_count": 9,
      "outputs": [
        {
          "output_type": "stream",
          "name": "stdout",
          "text": [
            "Original:  b'Remember the chain-smoking channeler exposed on 60 Minutes a few years ago? This is her. Lots of folks reviewed this movie without checking the bona fides of the filmmakers. The producers have been using phony \"word of mouth\" promotions very successfully without disclosing the financial and philosophical underpinnings for this piece of marketing tripe. If you believe in channeling, reincarnation, new age dreck and day-old baloney, this film is for you. If you want a discussion of quantum physics or reality, look elsewhere. The purpose of this movie is to convince you that Ramtha isn\\'t a wacko, so you\\'ll give her a bunch of your money. If you can tiptoe through the Ramtha website without howling in disbelief, then maybe you\\'ll think the bucks you dropped on this infomercial for insanity was well spent. <http://rogerebert.suntimes.com/apps/pbcs.dll/section?category=ANSWERMAN>'\n",
            "Round-trip:  remember the [UNK] [UNK] [UNK] on [UNK] minutes a few years ago this is her lots of [UNK] [UNK] this movie without [UNK] the [UNK] [UNK] of the filmmakers the [UNK] have been using [UNK] word of [UNK] [UNK] very [UNK] without [UNK] the [UNK] and [UNK] [UNK] for this piece of [UNK] [UNK] if you believe in [UNK] [UNK] new age [UNK] and [UNK] [UNK] this film is for you if you want a [UNK] of [UNK] [UNK] or reality look [UNK] the [UNK] of this movie is to [UNK] you that [UNK] isnt a [UNK] so youll give her a bunch of your money if you can [UNK] through the [UNK] [UNK] without [UNK] in [UNK] then maybe youll think the [UNK] you [UNK] on this [UNK] for [UNK] was well [UNK] [UNK]                                                                                                                                                                                                                                                                                                                                                                                                                                                                                                                                                                                                                                                                                                                                                                   \n",
            "\n",
            "Original:  b'I saw this \"hot\" movie when it came out in 1986. It had a X rating for a brief scene involving oral sex but played in mainstream theatres (it was an \"art\" film). Supposedly it\\'s the first film to ever show a respected actress in an explicit sex scene.<br /><br />What I saw was a boring tale about a high school boy (Federico Pitzalis) in love (understandably) with an older woman (Maruschka Detmers). As has been mentioned before Detmers is very beautiful with a good body BUT she also gave a very good performance. Pitzalis was (to put it mildly) pretty poor. It\\'s no wonder he never made another movie. Still, despite the infamous sex scene (which is explicit but pretty brief), this a slow moving dull story which bored me silly. The good acting by Detmers only helped to a certain point. Mostly I was looking at my watch waiting patiently for it to end. If it didn\\'t have that sequence this movie would have been forgotten long ago. Dull and slow. You can skip this one.'\n",
            "Round-trip:  i saw this hot movie when it came out in [UNK] it had a [UNK] rating for a [UNK] scene [UNK] [UNK] sex but played in [UNK] [UNK] it was an art film [UNK] its the first film to ever show a [UNK] actress in an [UNK] sex [UNK] br what i saw was a boring tale about a high school boy [UNK] [UNK] in love [UNK] with an older woman [UNK] [UNK] as has been [UNK] before [UNK] is very beautiful with a good body but she also gave a very good performance [UNK] was to put it [UNK] pretty poor its no wonder he never made another movie still despite the [UNK] sex scene which is [UNK] but pretty [UNK] this a slow moving dull story which [UNK] me silly the good acting by [UNK] only [UNK] to a certain point mostly i was looking at my watch [UNK] [UNK] for it to end if it didnt have that sequence this movie would have been [UNK] long ago dull and slow you can [UNK] this one                                                                                                                                                                                                                                                                                                                                                                                                                                                                                                                                                                                                                                                                                                                        \n",
            "\n",
            "Original:  b\"I simply cant understand why all these relics from the Ceausescu era refuse to let go. One can see clearly how frustrated they were during the commie censorship that forbade them so many things to show in their movies, and now they imagine its dunno what big deal of artsy-fartsy freedom so fill the screen with people defecating, urinating, vomiting, swearing, and any other kinds of hideousness imaginable. THIS IS NOT CINEMA, FRIENDS AND NEIGHBORS! This is simply visual perversion. Forget about Bunuels Chien Andalou, about David Lynch, about Forman and neorealism and other movie makers who were able to work with an aesthetics of ugliness. THOSE people were mastering their jobs - well, you Don't! Do us a favor, all you Daneliucs and Nicolaescus and Saizescus and Muresans and Marinescus and Margineanus and other obsolete old-timers, and leave us alone! Its bit time to see some Romanian MOVIES on screen, enough with your immature terribilisms! You are not directors, you are ILLITERATE!!!\"\n",
            "Round-trip:  i simply cant understand why all these [UNK] from the [UNK] [UNK] [UNK] to let go one can see clearly how [UNK] they were during the [UNK] [UNK] that [UNK] them so many things to show in their movies and now they imagine its [UNK] what big deal of [UNK] [UNK] so [UNK] the screen with people [UNK] [UNK] [UNK] [UNK] and any other [UNK] of [UNK] [UNK] this is not cinema friends and [UNK] this is simply [UNK] [UNK] forget about [UNK] [UNK] [UNK] about david [UNK] about [UNK] and [UNK] and other movie [UNK] who were able to work with an [UNK] of [UNK] those people were [UNK] their [UNK] well you dont do us a [UNK] all you [UNK] and [UNK] and [UNK] and [UNK] and [UNK] and [UNK] and other [UNK] [UNK] and leave us alone its bit time to see some [UNK] movies on screen enough with your [UNK] [UNK] you are not directors you are [UNK]                                                                                                                                                                                                                                                                                                                                                                                                                                                                                                                                                                                                                                                                                                                                        \n",
            "\n"
          ]
        }
      ]
    },
    {
      "cell_type": "markdown",
      "source": [
        "**4. Buat Model**\n"
      ],
      "metadata": {
        "id": "Exy2qq4SBCrx"
      }
    },
    {
      "cell_type": "code",
      "source": [
        "model = tf.keras.Sequential([\n",
        "    encoder,\n",
        "    tf.keras.layers.Embedding(\n",
        "        input_dim=len(encoder.get_vocabulary()),\n",
        "        output_dim=64,\n",
        "        # Use masking to handle the variable sequence lengths\n",
        "        mask_zero=True),\n",
        "    tf.keras.layers.Bidirectional(tf.keras.layers.LSTM(64)),\n",
        "    tf.keras.layers.Dense(64, activation='relu'),\n",
        "    tf.keras.layers.Dense(1)\n",
        "])"
      ],
      "metadata": {
        "id": "TOk2xdQzBg8F"
      },
      "execution_count": 10,
      "outputs": []
    },
    {
      "cell_type": "code",
      "source": [
        "print([layer.supports_masking for layer in model.layers])"
      ],
      "metadata": {
        "colab": {
          "base_uri": "https://localhost:8080/"
        },
        "id": "dPIq8DZ0B7Cb",
        "outputId": "37ea37fc-caff-42b2-970f-60f4aef110c7"
      },
      "execution_count": 11,
      "outputs": [
        {
          "output_type": "stream",
          "name": "stdout",
          "text": [
            "[False, True, True, True, True]\n"
          ]
        }
      ]
    },
    {
      "cell_type": "code",
      "source": [
        "# predict on a sample text without padding.\n",
        "\n",
        "sample_text = ('The movie was cool. The animation and the graphics '\n",
        "               'were out of this world. I would recommend this movie.')\n",
        "predictions = model.predict(np.array([sample_text]))\n",
        "print(predictions[0])"
      ],
      "metadata": {
        "colab": {
          "base_uri": "https://localhost:8080/"
        },
        "id": "FYy5BY8pB96u",
        "outputId": "31729fba-1a6f-4da3-8389-67cc9d0d5c46"
      },
      "execution_count": 12,
      "outputs": [
        {
          "output_type": "stream",
          "name": "stdout",
          "text": [
            "1/1 [==============================] - 7s 7s/step\n",
            "[-0.00103054]\n"
          ]
        }
      ]
    },
    {
      "cell_type": "code",
      "source": [
        "# predict on a sample text with padding\n",
        "\n",
        "padding = \"the \" * 2000\n",
        "predictions = model.predict(np.array([sample_text, padding]))\n",
        "print(predictions[0])"
      ],
      "metadata": {
        "colab": {
          "base_uri": "https://localhost:8080/"
        },
        "id": "0TJUFCRxCBRR",
        "outputId": "8fde1caf-2ef8-4568-8964-16d2aa35ea1a"
      },
      "execution_count": 13,
      "outputs": [
        {
          "output_type": "stream",
          "name": "stdout",
          "text": [
            "1/1 [==============================] - 0s 79ms/step\n",
            "[-0.00103055]\n"
          ]
        }
      ]
    },
    {
      "cell_type": "code",
      "source": [
        "model.compile(loss=tf.keras.losses.BinaryCrossentropy(from_logits=True),\n",
        "              optimizer=tf.keras.optimizers.Adam(1e-4),\n",
        "              metrics=['accuracy'])"
      ],
      "metadata": {
        "id": "biCVYCzrCD8D"
      },
      "execution_count": 14,
      "outputs": []
    },
    {
      "cell_type": "markdown",
      "source": [
        "**5. Train Model**"
      ],
      "metadata": {
        "id": "UVbiuB9bCFfy"
      }
    },
    {
      "cell_type": "code",
      "source": [
        "history = model.fit(train_dataset,\n",
        "                    epochs=10,\n",
        "                    validation_data=test_dataset,\n",
        "                    validation_steps=30)\n"
      ],
      "metadata": {
        "colab": {
          "base_uri": "https://localhost:8080/"
        },
        "id": "HUmzuTK6CHtg",
        "outputId": "cfab2407-6255-42e4-913c-b51357de4029"
      },
      "execution_count": 15,
      "outputs": [
        {
          "output_type": "stream",
          "name": "stdout",
          "text": [
            "Epoch 1/10\n",
            "391/391 [==============================] - 52s 105ms/step - loss: 0.6571 - accuracy: 0.5519 - val_loss: 0.5438 - val_accuracy: 0.7208\n",
            "Epoch 2/10\n",
            "391/391 [==============================] - 27s 70ms/step - loss: 0.4897 - accuracy: 0.7482 - val_loss: 0.4312 - val_accuracy: 0.8073\n",
            "Epoch 3/10\n",
            "391/391 [==============================] - 27s 68ms/step - loss: 0.4000 - accuracy: 0.8212 - val_loss: 0.4066 - val_accuracy: 0.7865\n",
            "Epoch 4/10\n",
            "391/391 [==============================] - 26s 66ms/step - loss: 0.3608 - accuracy: 0.8430 - val_loss: 0.3734 - val_accuracy: 0.8589\n",
            "Epoch 5/10\n",
            "391/391 [==============================] - 26s 66ms/step - loss: 0.3373 - accuracy: 0.8562 - val_loss: 0.3417 - val_accuracy: 0.8443\n",
            "Epoch 6/10\n",
            "391/391 [==============================] - 25s 64ms/step - loss: 0.3220 - accuracy: 0.8628 - val_loss: 0.3334 - val_accuracy: 0.8573\n",
            "Epoch 7/10\n",
            "391/391 [==============================] - 26s 66ms/step - loss: 0.3173 - accuracy: 0.8659 - val_loss: 0.3387 - val_accuracy: 0.8380\n",
            "Epoch 8/10\n",
            "391/391 [==============================] - 25s 63ms/step - loss: 0.3085 - accuracy: 0.8683 - val_loss: 0.3248 - val_accuracy: 0.8615\n",
            "Epoch 9/10\n",
            "391/391 [==============================] - 26s 65ms/step - loss: 0.3050 - accuracy: 0.8704 - val_loss: 0.3277 - val_accuracy: 0.8625\n",
            "Epoch 10/10\n",
            "391/391 [==============================] - 25s 64ms/step - loss: 0.3006 - accuracy: 0.8719 - val_loss: 0.3314 - val_accuracy: 0.8594\n"
          ]
        }
      ]
    },
    {
      "cell_type": "code",
      "source": [
        "test_loss, test_acc = model.evaluate(test_dataset)\n",
        "\n",
        "print('Test Loss:', test_loss)\n",
        "print('Test Accuracy:', test_acc)"
      ],
      "metadata": {
        "id": "tBH5yxKqCKMR",
        "outputId": "be730e1d-ff31-4743-a5db-e24415c53902",
        "colab": {
          "base_uri": "https://localhost:8080/"
        }
      },
      "execution_count": null,
      "outputs": [
        {
          "output_type": "stream",
          "name": "stdout",
          "text": [
            "391/391 [==============================] - 10s 26ms/step - loss: 0.3263 - accuracy: 0.8643\n",
            "Test Loss: 0.3262941539287567\n",
            "Test Accuracy: 0.8643199801445007\n"
          ]
        }
      ]
    },
    {
      "cell_type": "code",
      "source": [
        "plt.figure(figsize=(16, 8))\n",
        "plt.subplot(1, 2, 1)\n",
        "plot_graphs(history, 'accuracy')\n",
        "plt.ylim(None, 1)\n",
        "plt.subplot(1, 2, 2)\n",
        "plot_graphs(history, 'loss')\n",
        "plt.ylim(0, None)"
      ],
      "metadata": {
        "id": "gVDHTXNtCLPt",
        "outputId": "cb4f39b0-c27c-4dfa-bc77-d18023ee3e3a",
        "colab": {
          "base_uri": "https://localhost:8080/",
          "height": 571
        }
      },
      "execution_count": null,
      "outputs": [
        {
          "output_type": "execute_result",
          "data": {
            "text/plain": [
              "(0.0, 0.6516511455178261)"
            ]
          },
          "metadata": {},
          "execution_count": 71
        },
        {
          "output_type": "display_data",
          "data": {
            "text/plain": [
              "<Figure size 1600x800 with 2 Axes>"
            ],
            "image/png": "[encoded data removed]"
          },
          "metadata": {}
        }
      ]
    },
    {
      "cell_type": "code",
      "source": [
        "sample_text = ('The movie was cool. The animation and the graphics '\n",
        "               'were out of this world. I would recommend this movie.')\n",
        "\n",
        "# Assuming 'model' is properly defined and compiled\n",
        "predictions = model.predict(np.array([sample_text]))"
      ],
      "metadata": {
        "id": "sxSsmb0dCMsI",
        "outputId": "8303c16e-8b8a-4fd0-9741-1f62b4e6c01b",
        "colab": {
          "base_uri": "https://localhost:8080/"
        }
      },
      "execution_count": null,
      "outputs": [
        {
          "output_type": "stream",
          "name": "stdout",
          "text": [
            "1/1 [==============================] - 3s 3s/step\n"
          ]
        }
      ]
    },
    {
      "cell_type": "markdown",
      "source": [
        "**6. Stack two or more LSTM layers**"
      ],
      "metadata": {
        "id": "JDIWjWzECRiw"
      }
    },
    {
      "cell_type": "code",
      "source": [
        "model = tf.keras.Sequential([\n",
        "    encoder,\n",
        "    tf.keras.layers.Embedding(len(encoder.get_vocabulary()), 64, mask_zero=True),\n",
        "    tf.keras.layers.Bidirectional(tf.keras.layers.LSTM(64, return_sequences=True)),\n",
        "    tf.keras.layers.Bidirectional(tf.keras.layers.LSTM(32)),\n",
        "    tf.keras.layers.Dense(64, activation='relu'),\n",
        "    tf.keras.layers.Dropout(0.5),\n",
        "    tf.keras.layers.Dense(1)\n",
        "])\n"
      ],
      "metadata": {
        "id": "UgwyCN_kCcBA"
      },
      "execution_count": null,
      "outputs": []
    },
    {
      "cell_type": "code",
      "source": [
        "model.compile(loss=tf.keras.losses.BinaryCrossentropy(from_logits=True),\n",
        "              optimizer=tf.keras.optimizers.Adam(1e-4),\n",
        "              metrics=['accuracy'])"
      ],
      "metadata": {
        "id": "GiPUZXFTCdx_"
      },
      "execution_count": null,
      "outputs": []
    },
    {
      "cell_type": "code",
      "source": [
        "history = model.fit(train_dataset, epochs=10, validation_data=test_dataset, validation_steps=30)\n"
      ],
      "metadata": {
        "id": "yqldiR67CfrC",
        "outputId": "c2bdcee6-db65-4bff-e367-8262468605d7",
        "colab": {
          "base_uri": "https://localhost:8080/"
        }
      },
      "execution_count": null,
      "outputs": [
        {
          "output_type": "stream",
          "name": "stdout",
          "text": [
            "Epoch 1/10\n",
            "391/391 [==============================] - 86s 176ms/step - loss: 0.6260 - accuracy: 0.5910 - val_loss: 0.4447 - val_accuracy: 0.8026\n",
            "Epoch 2/10\n",
            "391/391 [==============================] - 44s 112ms/step - loss: 0.3945 - accuracy: 0.8298 - val_loss: 0.3606 - val_accuracy: 0.8562\n",
            "Epoch 3/10\n",
            "391/391 [==============================] - 45s 114ms/step - loss: 0.3436 - accuracy: 0.8548 - val_loss: 0.3470 - val_accuracy: 0.8354\n",
            "Epoch 4/10\n",
            "391/391 [==============================] - 45s 114ms/step - loss: 0.3241 - accuracy: 0.8639 - val_loss: 0.3363 - val_accuracy: 0.8458\n",
            "Epoch 5/10\n",
            "391/391 [==============================] - 44s 112ms/step - loss: 0.3149 - accuracy: 0.8675 - val_loss: 0.3219 - val_accuracy: 0.8531\n",
            "Epoch 6/10\n",
            "391/391 [==============================] - 44s 111ms/step - loss: 0.3099 - accuracy: 0.8699 - val_loss: 0.3177 - val_accuracy: 0.8583\n",
            "Epoch 7/10\n",
            "391/391 [==============================] - 44s 111ms/step - loss: 0.3061 - accuracy: 0.8702 - val_loss: 0.3230 - val_accuracy: 0.8573\n",
            "Epoch 8/10\n",
            "391/391 [==============================] - 44s 111ms/step - loss: 0.3021 - accuracy: 0.8718 - val_loss: 0.3212 - val_accuracy: 0.8469\n",
            "Epoch 9/10\n",
            "391/391 [==============================] - 43s 110ms/step - loss: 0.2995 - accuracy: 0.8736 - val_loss: 0.3278 - val_accuracy: 0.8370\n",
            "Epoch 10/10\n",
            "391/391 [==============================] - 45s 115ms/step - loss: 0.2939 - accuracy: 0.8742 - val_loss: 0.3247 - val_accuracy: 0.8615\n"
          ]
        }
      ]
    },
    {
      "cell_type": "code",
      "source": [
        "test_loss, test_acc = model.evaluate(test_dataset)\n",
        "\n",
        "print('Test Loss:', test_loss)\n",
        "print('Test Accuracy:', test_acc)"
      ],
      "metadata": {
        "id": "bTSw_keCChDU",
        "outputId": "dda1f0ca-fa1c-4189-9185-313e49d567c1",
        "colab": {
          "base_uri": "https://localhost:8080/"
        }
      },
      "execution_count": null,
      "outputs": [
        {
          "output_type": "stream",
          "name": "stdout",
          "text": [
            "391/391 [==============================] - 18s 45ms/step - loss: 0.3201 - accuracy: 0.8614\n",
            "Test Loss: 0.32012394070625305\n",
            "Test Accuracy: 0.8613600134849548\n"
          ]
        }
      ]
    },
    {
      "cell_type": "code",
      "source": [
        "# predict on a sample text without padding.\n",
        "\n",
        "sample_text = ('The movie was not good. The animation and the graphics were terrible. I would not recommend this movie.')\n",
        "predictions = model.predict(np.array([sample_text]))\n",
        "print(predictions)"
      ],
      "metadata": {
        "id": "kyHTzVrYCiSv",
        "outputId": "a2829171-8082-4412-e4a2-de00eed7cec2",
        "colab": {
          "base_uri": "https://localhost:8080/"
        }
      },
      "execution_count": null,
      "outputs": [
        {
          "output_type": "stream",
          "name": "stdout",
          "text": [
            "1/1 [==============================] - 5s 5s/step\n",
            "[[-2.1094615]]\n"
          ]
        }
      ]
    },
    {
      "cell_type": "code",
      "source": [
        "plt.figure(figsize=(16, 6))\n",
        "plt.subplot(1, 2, 1)\n",
        "plot_graphs(history, 'accuracy')\n",
        "plt.subplot(1, 2, 2)\n",
        "plot_graphs(history, 'loss')"
      ],
      "metadata": {
        "id": "zNjqew9JCja2",
        "outputId": "0c6e8f59-0ed0-4c8c-f086-570a3b9580bc",
        "colab": {
          "base_uri": "https://localhost:8080/",
          "height": 429
        }
      },
      "execution_count": null,
      "outputs": [
        {
          "output_type": "display_data",
          "data": {
            "text/plain": [
              "<Figure size 1600x600 with 2 Axes>"
            ],
            "image/png": "[encoded data removed]"
          },
          "metadata": {}
        }
      ]
    },
    {
      "cell_type": "markdown",
      "source": [
        "---\n",
        "## **Praktikum 2**\n",
        "\n"
      ],
      "metadata": {
        "id": "5xJGQ9OFN0kn"
      }
    },
    {
      "cell_type": "markdown",
      "source": [
        "**1. Setup**"
      ],
      "metadata": {
        "id": "qQbQCUryOdqq"
      }
    },
    {
      "cell_type": "code",
      "source": [
        "import tensorflow as tf\n",
        "import numpy as np\n",
        "import os\n",
        "import time"
      ],
      "metadata": {
        "id": "Np-jYDKPOp7L"
      },
      "execution_count": null,
      "outputs": []
    },
    {
      "cell_type": "markdown",
      "source": [
        "**2. Download Dataset Shakespeare**\n"
      ],
      "metadata": {
        "id": "jO_xCAz6Or_G"
      }
    },
    {
      "cell_type": "code",
      "source": [
        "path_to_file=tf.keras.utils.get_file('shakespeare.txt',\n",
        "                                     'https://storage.googleapis.com/download.tensorflow.org/data/shakespeare.txt')"
      ],
      "metadata": {
        "id": "ahw0qDSsOwG7",
        "outputId": "a161d331-3c2c-4f92-e6b3-2657c8643ff5",
        "colab": {
          "base_uri": "https://localhost:8080/"
        }
      },
      "execution_count": null,
      "outputs": [
        {
          "output_type": "stream",
          "name": "stdout",
          "text": [
            "Downloading data from https://storage.googleapis.com/download.tensorflow.org/data/shakespeare.txt\n",
            "1115394/1115394 [==============================] - 1s 1us/step\n"
          ]
        }
      ]
    },
    {
      "cell_type": "markdown",
      "source": [
        "**3. Load Data**"
      ],
      "metadata": {
        "id": "zRCdCZwLO2SH"
      }
    },
    {
      "cell_type": "code",
      "source": [
        "# Read, then decode for py2 compat.\n",
        "text = open(path_to_file, 'rb').read().decode(encoding='utf-8')\n",
        "# length of text is the number of characters in it\n",
        "print(f'Length of text: {len(text)} characters')"
      ],
      "metadata": {
        "id": "J-Ng8drYO4Ny",
        "outputId": "cf95398e-7049-490c-fb73-4ff39983ab7d",
        "colab": {
          "base_uri": "https://localhost:8080/"
        }
      },
      "execution_count": null,
      "outputs": [
        {
          "output_type": "stream",
          "name": "stdout",
          "text": [
            "Length of text: 1115394 characters\n"
          ]
        }
      ]
    },
    {
      "cell_type": "code",
      "source": [
        "# Take a look at the first 250 characters in text\n",
        "print(text[:250])"
      ],
      "metadata": {
        "id": "GQgeIVsaO5TT",
        "outputId": "a6ecbce1-0962-4722-df65-3509b3a04c2e",
        "colab": {
          "base_uri": "https://localhost:8080/"
        }
      },
      "execution_count": null,
      "outputs": [
        {
          "output_type": "stream",
          "name": "stdout",
          "text": [
            "First Citizen:\n",
            "Before we proceed any further, hear me speak.\n",
            "\n",
            "All:\n",
            "Speak, speak.\n",
            "\n",
            "First Citizen:\n",
            "You are all resolved rather to die than to famish?\n",
            "\n",
            "All:\n",
            "Resolved. resolved.\n",
            "\n",
            "First Citizen:\n",
            "First, you know Caius Marcius is chief enemy to the people.\n",
            "\n"
          ]
        }
      ]
    },
    {
      "cell_type": "code",
      "source": [
        "# The unique characters in the file\n",
        "vocab = sorted(set(text))\n",
        "print(f'{len(vocab)} unique characters')"
      ],
      "metadata": {
        "id": "XxN4yGWlO6UZ",
        "outputId": "57a7f53e-6e28-44f8-b835-6f34a762bae2",
        "colab": {
          "base_uri": "https://localhost:8080/"
        }
      },
      "execution_count": null,
      "outputs": [
        {
          "output_type": "stream",
          "name": "stdout",
          "text": [
            "65 unique characters\n"
          ]
        }
      ]
    },
    {
      "cell_type": "markdown",
      "source": [
        "**4. Olah Teks**\n"
      ],
      "metadata": {
        "id": "IRsWq4GkO8A_"
      }
    },
    {
      "cell_type": "code",
      "source": [
        "example_texts=['abcdefg',\n",
        "               'xyz']\n",
        "chars=tf.strings.unicode_split(example_texts,\n",
        "                               input_encoding='UTF-8')\n",
        "chars"
      ],
      "metadata": {
        "id": "QP0Rbv_GPI1b",
        "outputId": "56b1d69e-7c89-47d8-dec1-c78d4b30c03f",
        "colab": {
          "base_uri": "https://localhost:8080/"
        }
      },
      "execution_count": null,
      "outputs": [
        {
          "output_type": "execute_result",
          "data": {
            "text/plain": [
              "<tf.RaggedTensor [[b'a', b'b', b'c', b'd', b'e', b'f', b'g'], [b'x', b'y', b'z']]>"
            ]
          },
          "metadata": {},
          "execution_count": 7
        }
      ]
    },
    {
      "cell_type": "code",
      "source": [
        "ids_from_chars = tf.keras.layers.StringLookup(vocabulary=list(vocab), mask_token=None)"
      ],
      "metadata": {
        "id": "C5TDbFAvPVJk"
      },
      "execution_count": null,
      "outputs": []
    },
    {
      "cell_type": "code",
      "source": [
        "ids=ids_from_chars(chars)\n",
        "ids"
      ],
      "metadata": {
        "id": "Bcukt73OPedn",
        "outputId": "561c1a54-696b-4877-857a-18a29c3e2e42",
        "colab": {
          "base_uri": "https://localhost:8080/"
        }
      },
      "execution_count": null,
      "outputs": [
        {
          "output_type": "execute_result",
          "data": {
            "text/plain": [
              "<tf.RaggedTensor [[40, 41, 42, 43, 44, 45, 46], [63, 64, 65]]>"
            ]
          },
          "metadata": {},
          "execution_count": 9
        }
      ]
    },
    {
      "cell_type": "code",
      "source": [
        "chars_from_ids = tf.keras.layers.StringLookup(\n",
        "    vocabulary=ids_from_chars.get_vocabulary(), invert=True, mask_token=None)"
      ],
      "metadata": {
        "id": "Wxb3Y16ePypZ"
      },
      "execution_count": null,
      "outputs": []
    },
    {
      "cell_type": "code",
      "source": [
        "chars=chars_from_ids(ids)\n",
        "chars"
      ],
      "metadata": {
        "id": "PWMgAjP_P2m3",
        "outputId": "5fa4d3fa-6893-448a-d522-83bea2ceced6",
        "colab": {
          "base_uri": "https://localhost:8080/"
        }
      },
      "execution_count": null,
      "outputs": [
        {
          "output_type": "execute_result",
          "data": {
            "text/plain": [
              "<tf.RaggedTensor [[b'a', b'b', b'c', b'd', b'e', b'f', b'g'], [b'x', b'y', b'z']]>"
            ]
          },
          "metadata": {},
          "execution_count": 11
        }
      ]
    },
    {
      "cell_type": "code",
      "source": [
        "tf.strings.reduce_join(chars,axis=-1).numpy()"
      ],
      "metadata": {
        "id": "nAi-EZRUP_Ur",
        "outputId": "16f33991-0be7-4058-9c61-983ffcfab6ef",
        "colab": {
          "base_uri": "https://localhost:8080/"
        }
      },
      "execution_count": null,
      "outputs": [
        {
          "output_type": "execute_result",
          "data": {
            "text/plain": [
              "array([b'abcdefg', b'xyz'], dtype=object)"
            ]
          },
          "metadata": {},
          "execution_count": 12
        }
      ]
    },
    {
      "cell_type": "code",
      "source": [
        "def text_from_ids(ids):\n",
        "    return tf.strings.reduce_join(chars_from_ids(ids), axis=-1)"
      ],
      "metadata": {
        "id": "cOBw3kUqP9ew"
      },
      "execution_count": null,
      "outputs": []
    },
    {
      "cell_type": "markdown",
      "source": [
        "**5. Prediksi**\n",
        "\n",
        "Diberikan sebuah karakter, atau serangkaian karakter, karakter apa yang paling mungkin berikutnya? Ini adalah tugas yang harus Anda latih agar model dapat melakukannya. Masukan ke model akan berupa urutan karakter, dan Anda melatih model untuk memprediksi keluaran berupa karakter berikut pada setiap langkah waktu. Karena RNN mempertahankan keadaan internal yang bergantung pada elemen yang terlihat sebelumnya, mengingat semua karakter dihitung hingga saat ini, karakter apa selanjutnya?\n",
        "\n"
      ],
      "metadata": {
        "id": "Vp1wPpqZQHX5"
      }
    },
    {
      "cell_type": "markdown",
      "source": [
        "\n",
        "**6. Membuat Trianing Set dan Target**\n",
        "\n",
        "Selanjutnya bagilah teks menjadi contoh sequence. Setiap masukan sequence akan berisi karakter seq_length dari teks. Untuk setiap masukan sequence, target prediksi berisi teks dengan panjang yang sama, hanya digeser satu karakter ke kanan. Jadi, bagi teks menjadi beberapa bagian `seq_length+1`. Misalnya, seq_length adalah 4 dan teks kita adalah \"Hello\". Urutan masukannya adalah \"Hell\", dan urutan targetnya adalah \"ello\". Untuk melakukan ini, pertama-tama gunakan fungsi tf.data.Dataset.from_tensor_slices untuk mengonversi vektor teks menjadi aliran indeks karakter."
      ],
      "metadata": {
        "id": "j16Vb-T4QMqn"
      }
    },
    {
      "cell_type": "code",
      "source": [
        "all_ids = ids_from_chars(tf.strings.unicode_split(text, 'UTF-8'))\n",
        "all_ids"
      ],
      "metadata": {
        "id": "tB0y0Q6lQRdo",
        "outputId": "875c6546-5f05-483a-82d6-1fb97e9d0e83",
        "colab": {
          "base_uri": "https://localhost:8080/"
        }
      },
      "execution_count": null,
      "outputs": [
        {
          "output_type": "execute_result",
          "data": {
            "text/plain": [
              "<tf.Tensor: shape=(1115394,), dtype=int64, numpy=array([19, 48, 57, ..., 46,  9,  1])>"
            ]
          },
          "metadata": {},
          "execution_count": 14
        }
      ]
    },
    {
      "cell_type": "code",
      "source": [
        "ids_dataset = tf.data.Dataset.from_tensor_slices(all_ids)"
      ],
      "metadata": {
        "id": "QV9FzQfuQSjO"
      },
      "execution_count": null,
      "outputs": []
    },
    {
      "cell_type": "code",
      "source": [
        "for ids in ids_dataset.take(10):\n",
        "    print(chars_from_ids(ids).numpy().decode('utf-8'))"
      ],
      "metadata": {
        "id": "CWvWCMlOQTho",
        "outputId": "12760e16-f38b-4917-af87-fdd830013e0c",
        "colab": {
          "base_uri": "https://localhost:8080/"
        }
      },
      "execution_count": null,
      "outputs": [
        {
          "output_type": "stream",
          "name": "stdout",
          "text": [
            "F\n",
            "i\n",
            "r\n",
            "s\n",
            "t\n",
            " \n",
            "C\n",
            "i\n",
            "t\n",
            "i\n"
          ]
        }
      ]
    },
    {
      "cell_type": "code",
      "source": [
        "seq_length = 100"
      ],
      "metadata": {
        "id": "WvGKY4RPQUcV"
      },
      "execution_count": null,
      "outputs": []
    },
    {
      "cell_type": "code",
      "source": [
        "sequences = ids_dataset.batch(seq_length+1, drop_remainder=True)\n",
        "\n",
        "for seq in sequences.take(1):\n",
        "  print(chars_from_ids(seq))"
      ],
      "metadata": {
        "id": "E98tp3b4QXAy",
        "outputId": "f20701f8-cf3d-421a-e0a3-e71c1d7fc745",
        "colab": {
          "base_uri": "https://localhost:8080/"
        }
      },
      "execution_count": null,
      "outputs": [
        {
          "output_type": "stream",
          "name": "stdout",
          "text": [
            "tf.Tensor(\n",
            "[b'F' b'i' b'r' b's' b't' b' ' b'C' b'i' b't' b'i' b'z' b'e' b'n' b':'\n",
            " b'\\n' b'B' b'e' b'f' b'o' b'r' b'e' b' ' b'w' b'e' b' ' b'p' b'r' b'o'\n",
            " b'c' b'e' b'e' b'd' b' ' b'a' b'n' b'y' b' ' b'f' b'u' b'r' b't' b'h'\n",
            " b'e' b'r' b',' b' ' b'h' b'e' b'a' b'r' b' ' b'm' b'e' b' ' b's' b'p'\n",
            " b'e' b'a' b'k' b'.' b'\\n' b'\\n' b'A' b'l' b'l' b':' b'\\n' b'S' b'p' b'e'\n",
            " b'a' b'k' b',' b' ' b's' b'p' b'e' b'a' b'k' b'.' b'\\n' b'\\n' b'F' b'i'\n",
            " b'r' b's' b't' b' ' b'C' b'i' b't' b'i' b'z' b'e' b'n' b':' b'\\n' b'Y'\n",
            " b'o' b'u' b' '], shape=(101,), dtype=string)\n"
          ]
        }
      ]
    },
    {
      "cell_type": "code",
      "source": [
        "for seq in sequences.take(5):\n",
        "    print(text_from_ids(seq).numpy())"
      ],
      "metadata": {
        "id": "6DlLQCeAQaNK",
        "outputId": "18e3573d-932e-4423-f4af-7b521db131fb",
        "colab": {
          "base_uri": "https://localhost:8080/"
        }
      },
      "execution_count": null,
      "outputs": [
        {
          "output_type": "stream",
          "name": "stdout",
          "text": [
            "b'First Citizen:\\nBefore we proceed any further, hear me speak.\\n\\nAll:\\nSpeak, speak.\\n\\nFirst Citizen:\\nYou '\n",
            "b'are all resolved rather to die than to famish?\\n\\nAll:\\nResolved. resolved.\\n\\nFirst Citizen:\\nFirst, you k'\n",
            "b\"now Caius Marcius is chief enemy to the people.\\n\\nAll:\\nWe know't, we know't.\\n\\nFirst Citizen:\\nLet us ki\"\n",
            "b\"ll him, and we'll have corn at our own price.\\nIs't a verdict?\\n\\nAll:\\nNo more talking on't; let it be d\"\n",
            "b'one: away, away!\\n\\nSecond Citizen:\\nOne word, good citizens.\\n\\nFirst Citizen:\\nWe are accounted poor citi'\n"
          ]
        }
      ]
    },
    {
      "cell_type": "code",
      "source": [
        "def split_input_target(sequence):\n",
        "    input_text = sequence[:-1]\n",
        "    target_text = sequence[1:]\n",
        "    return input_text, target_text"
      ],
      "metadata": {
        "id": "sgqyNjcoQdN1"
      },
      "execution_count": null,
      "outputs": []
    },
    {
      "cell_type": "code",
      "source": [
        "split_input_target(list(\"Tensorflow\"))"
      ],
      "metadata": {
        "id": "56r_2F50QeP-",
        "outputId": "fe1eb7d2-86f5-484a-b83f-42fbb95676e1",
        "colab": {
          "base_uri": "https://localhost:8080/"
        }
      },
      "execution_count": null,
      "outputs": [
        {
          "output_type": "execute_result",
          "data": {
            "text/plain": [
              "(['T', 'e', 'n', 's', 'o', 'r', 'f', 'l', 'o'],\n",
              " ['e', 'n', 's', 'o', 'r', 'f', 'l', 'o', 'w'])"
            ]
          },
          "metadata": {},
          "execution_count": 21
        }
      ]
    },
    {
      "cell_type": "code",
      "source": [
        "dataset = sequences.map(split_input_target)"
      ],
      "metadata": {
        "id": "YU_BbT7KQfRV"
      },
      "execution_count": null,
      "outputs": []
    },
    {
      "cell_type": "code",
      "source": [
        "for input_example, target_example in dataset.take(1):\n",
        "    print(\"Input :\", text_from_ids(input_example).numpy())\n",
        "    print(\"Target:\", text_from_ids(target_example).numpy())"
      ],
      "metadata": {
        "id": "DB8TiONWQgXo",
        "outputId": "43c536a2-2a48-4943-ffb3-ab62f1c5a3ed",
        "colab": {
          "base_uri": "https://localhost:8080/"
        }
      },
      "execution_count": null,
      "outputs": [
        {
          "output_type": "stream",
          "name": "stdout",
          "text": [
            "Input : b'First Citizen:\\nBefore we proceed any further, hear me speak.\\n\\nAll:\\nSpeak, speak.\\n\\nFirst Citizen:\\nYou'\n",
            "Target: b'irst Citizen:\\nBefore we proceed any further, hear me speak.\\n\\nAll:\\nSpeak, speak.\\n\\nFirst Citizen:\\nYou '\n"
          ]
        }
      ]
    },
    {
      "cell_type": "markdown",
      "source": [
        "**7. Membuat Batch Training**\n",
        "\n"
      ],
      "metadata": {
        "id": "sn2o33UTQhpb"
      }
    },
    {
      "cell_type": "code",
      "source": [
        "# Batch size\n",
        "BATCH_SIZE = 64\n",
        "\n",
        "# Buffer size to shuffle the dataset\n",
        "# (TF data is designed to work with possibly infinite sequences,\n",
        "# so it doesn't attempt to shuffle the entire sequence in memory. Instead,\n",
        "# it maintains a buffer in which it shuffles elements).\n",
        "BUFFER_SIZE = 10000\n",
        "\n",
        "dataset = (\n",
        "    dataset\n",
        "    .shuffle(BUFFER_SIZE)\n",
        "    .batch(BATCH_SIZE, drop_remainder=True)\n",
        "    .prefetch(tf.data.experimental.AUTOTUNE))\n",
        "\n",
        "dataset"
      ],
      "metadata": {
        "id": "rMqGiugfQkcy",
        "outputId": "a1f828fe-f23a-4926-dc65-d5ab8606be58",
        "colab": {
          "base_uri": "https://localhost:8080/"
        }
      },
      "execution_count": null,
      "outputs": [
        {
          "output_type": "execute_result",
          "data": {
            "text/plain": [
              "<_PrefetchDataset element_spec=(TensorSpec(shape=(64, 100), dtype=tf.int64, name=None), TensorSpec(shape=(64, 100), dtype=tf.int64, name=None))>"
            ]
          },
          "metadata": {},
          "execution_count": 24
        }
      ]
    },
    {
      "cell_type": "markdown",
      "source": [
        "**8. Buat Model**\n",
        "\n"
      ],
      "metadata": {
        "id": "8mqIvp_R2O8R"
      }
    },
    {
      "cell_type": "code",
      "source": [
        "# Length of the vocabulary in StringLookup Layer\n",
        "vocab_size = len(ids_from_chars.get_vocabulary())\n",
        "\n",
        "# The embedding dimension\n",
        "embedding_dim = 256\n",
        "\n",
        "# Number of RNN units\n",
        "rnn_units = 1024"
      ],
      "metadata": {
        "id": "OFGFywU92ka3"
      },
      "execution_count": null,
      "outputs": []
    },
    {
      "cell_type": "code",
      "source": [
        "class MyModel(tf.keras.Model):\n",
        "  def __init__(self, vocab_size, embedding_dim, rnn_units):\n",
        "    super().__init__(self)\n",
        "    self.embedding = tf.keras.layers.Embedding(vocab_size, embedding_dim)\n",
        "    self.gru = tf.keras.layers.GRU(rnn_units,\n",
        "                                   return_sequences=True,\n",
        "                                   return_state=True)\n",
        "    self.dense = tf.keras.layers.Dense(vocab_size)\n",
        "\n",
        "  def call(self, inputs, states=None, return_state=False, training=False):\n",
        "    x = inputs\n",
        "    x = self.embedding(x, training=training)\n",
        "    if states is None:\n",
        "      states = self.gru.get_initial_state(x)\n",
        "    x, states = self.gru(x, initial_state=states, training=training)\n",
        "    x = self.dense(x, training=training)\n",
        "\n",
        "    if return_state:\n",
        "      return x, states\n",
        "    else:\n",
        "      return x"
      ],
      "metadata": {
        "id": "zMgndDLD2lpI"
      },
      "execution_count": null,
      "outputs": []
    },
    {
      "cell_type": "code",
      "source": [
        "model = MyModel(\n",
        "    vocab_size=vocab_size,\n",
        "    embedding_dim=embedding_dim,\n",
        "    rnn_units=rnn_units)"
      ],
      "metadata": {
        "id": "k91djvHT2nP1"
      },
      "execution_count": null,
      "outputs": []
    },
    {
      "cell_type": "markdown",
      "source": [
        "**9. Uji Model**"
      ],
      "metadata": {
        "id": "4gyDJ7fV21Kj"
      }
    },
    {
      "cell_type": "code",
      "source": [
        "for input_example_batch, target_example_batch in dataset.take(1):\n",
        "    example_batch_predictions = model(input_example_batch)\n",
        "    print(example_batch_predictions.shape, \"# (batch_size, sequence_length, vocab_size)\")"
      ],
      "metadata": {
        "id": "mV8WZYsF24xo",
        "outputId": "2b842a3c-d206-41f2-b79a-fb40a2c0d57f",
        "colab": {
          "base_uri": "https://localhost:8080/"
        }
      },
      "execution_count": null,
      "outputs": [
        {
          "output_type": "stream",
          "name": "stdout",
          "text": [
            "(64, 100, 66) # (batch_size, sequence_length, vocab_size)\n"
          ]
        }
      ]
    },
    {
      "cell_type": "code",
      "source": [
        "model.summary()"
      ],
      "metadata": {
        "id": "zJNyNGCv26rA",
        "outputId": "39fb29f2-a4ac-41bf-eae8-7fbedcf97600",
        "colab": {
          "base_uri": "https://localhost:8080/"
        }
      },
      "execution_count": null,
      "outputs": [
        {
          "output_type": "stream",
          "name": "stdout",
          "text": [
            "Model: \"my_model\"\n",
            "_________________________________________________________________\n",
            " Layer (type)                Output Shape              Param #   \n",
            "=================================================================\n",
            " embedding (Embedding)       multiple                  16896     \n",
            "                                                                 \n",
            " gru (GRU)                   multiple                  3938304   \n",
            "                                                                 \n",
            " dense (Dense)               multiple                  67650     \n",
            "                                                                 \n",
            "=================================================================\n",
            "Total params: 4022850 (15.35 MB)\n",
            "Trainable params: 4022850 (15.35 MB)\n",
            "Non-trainable params: 0 (0.00 Byte)\n",
            "_________________________________________________________________\n"
          ]
        }
      ]
    },
    {
      "cell_type": "code",
      "source": [
        "sampled_indices = tf.random.categorical(example_batch_predictions[0], num_samples=1)\n",
        "sampled_indices = tf.squeeze(sampled_indices, axis=-1).numpy()"
      ],
      "metadata": {
        "id": "Y8Mm0IRB3D3E"
      },
      "execution_count": null,
      "outputs": []
    },
    {
      "cell_type": "code",
      "source": [
        "sampled_indices"
      ],
      "metadata": {
        "id": "CW232yzQ3H9K",
        "outputId": "9bc80e4a-785f-44f4-87fd-bfdf9da4576e",
        "colab": {
          "base_uri": "https://localhost:8080/"
        }
      },
      "execution_count": null,
      "outputs": [
        {
          "output_type": "execute_result",
          "data": {
            "text/plain": [
              "array([37, 14,  3, 25,  4, 45, 10, 20,  5, 27, 20, 23, 56, 23, 35, 51, 56,\n",
              "       29, 12, 61, 18, 19, 14, 17, 42, 48, 62, 48, 15, 39, 57,  3, 18, 19,\n",
              "       51, 58, 53, 54,  7, 50, 55, 39, 26, 60, 44,  1, 16, 23, 49,  0, 15,\n",
              "       56,  7, 52, 11, 37,  5, 49, 12, 48, 48, 22, 17, 12, 56, 37, 24, 64,\n",
              "       41, 59, 34,  9, 47, 14, 40, 10, 27, 32, 44, 49,  6,  5, 65, 44,  7,\n",
              "       57, 13,  6, 37, 23, 20, 61, 11, 27, 35, 33, 57, 63, 28, 54])"
            ]
          },
          "metadata": {},
          "execution_count": 31
        }
      ]
    },
    {
      "cell_type": "code",
      "source": [
        "print(\"Input:\\n\", text_from_ids(input_example_batch[0]).numpy())\n",
        "print()\n",
        "print(\"Next Char Predictions:\\n\", text_from_ids(sampled_indices).numpy())"
      ],
      "metadata": {
        "id": "Jsz59jlB3MBH",
        "outputId": "75cf17d5-2698-47f5-cefb-cffedb3347ab",
        "colab": {
          "base_uri": "https://localhost:8080/"
        }
      },
      "execution_count": null,
      "outputs": [
        {
          "output_type": "stream",
          "name": "stdout",
          "text": [
            "Input:\n",
            " b't to Ludlow.\\nMadam, and you, my mother, will you go\\nTo give your censures in this weighty business?\\n'\n",
            "\n",
            "Next Char Predictions:\n",
            " b\"XA!L$f3G&NGJqJVlqP;vEFADciwiBZr!EFlsno,kpZMue\\nCJj[UNK]Bq,m:X&j;iiID;qXKybtU.hAa3NSej'&ze,r?'XJGv:NVTrxOo\"\n"
          ]
        }
      ]
    },
    {
      "cell_type": "markdown",
      "source": [
        "**10. Train Model**\n",
        "\n",
        "Pada titik ini permasalahan dapat dianggap sebagai permasalahan klasifikasi standar. Permasalahan dapat disimpulkan dengan : Berdasarkan status RNN sebelumnya, dan masukan langkah kali ini, prediksi kelas karakter berikutnya.\n",
        "\n"
      ],
      "metadata": {
        "id": "dtH0UUV_3N8S"
      }
    },
    {
      "cell_type": "markdown",
      "source": [
        "**11. Tambahan optimizer dan fungsi loss**\n",
        "\n",
        "loss function `tf.keras.losses.sparse_categorical_crossentropy` standar berfungsi dalam kasus ini karena diterapkan di seluruh dimensi terakhir prediksi. Karena model Anda mengembalikan logits, Anda perlu mengatur flag `from_logits`."
      ],
      "metadata": {
        "id": "O4T0tsjt3bEP"
      }
    },
    {
      "cell_type": "code",
      "source": [
        "loss = tf.losses.SparseCategoricalCrossentropy(from_logits=True)"
      ],
      "metadata": {
        "id": "FT1NOa-F3NrP"
      },
      "execution_count": null,
      "outputs": []
    },
    {
      "cell_type": "code",
      "source": [
        "example_batch_mean_loss = loss(target_example_batch, example_batch_predictions)\n",
        "print(\"Prediction shape: \", example_batch_predictions.shape, \" # (batch_size, sequence_length, vocab_size)\")\n",
        "print(\"Mean loss:        \", example_batch_mean_loss)"
      ],
      "metadata": {
        "id": "OrnDE_Ob3yha",
        "outputId": "d338f5ad-4589-436b-b527-f72613f7c2bd",
        "colab": {
          "base_uri": "https://localhost:8080/"
        }
      },
      "execution_count": null,
      "outputs": [
        {
          "output_type": "stream",
          "name": "stdout",
          "text": [
            "Prediction shape:  (64, 100, 66)  # (batch_size, sequence_length, vocab_size)\n",
            "Mean loss:         tf.Tensor(4.1907105, shape=(), dtype=float32)\n"
          ]
        }
      ]
    },
    {
      "cell_type": "code",
      "source": [
        "tf.exp(example_batch_mean_loss).numpy()"
      ],
      "metadata": {
        "id": "aF5OPxgy327A",
        "outputId": "2b4331dd-b229-4663-be08-381351059aa7",
        "colab": {
          "base_uri": "https://localhost:8080/"
        }
      },
      "execution_count": null,
      "outputs": [
        {
          "output_type": "execute_result",
          "data": {
            "text/plain": [
              "66.06972"
            ]
          },
          "metadata": {},
          "execution_count": 35
        }
      ]
    },
    {
      "cell_type": "code",
      "source": [
        "model.compile(optimizer='adam', loss=loss)"
      ],
      "metadata": {
        "id": "-bfVZDyx35PP"
      },
      "execution_count": null,
      "outputs": []
    },
    {
      "cell_type": "markdown",
      "source": [
        "**12. Konfigurasi Checkpoints**\n"
      ],
      "metadata": {
        "id": "C6Pj7yzB38z7"
      }
    },
    {
      "cell_type": "code",
      "source": [
        "# Directory where the checkpoints will be saved\n",
        "checkpoint_dir = './training_checkpoints'\n",
        "# Name of the checkpoint files\n",
        "checkpoint_prefix = os.path.join(checkpoint_dir, \"ckpt_{epoch}\")\n",
        "\n",
        "checkpoint_callback = tf.keras.callbacks.ModelCheckpoint(\n",
        "    filepath=checkpoint_prefix,\n",
        "    save_weights_only=True)"
      ],
      "metadata": {
        "id": "jWP-EV__4ACe"
      },
      "execution_count": null,
      "outputs": []
    },
    {
      "cell_type": "markdown",
      "source": [
        "**13. Lakukan Proses Training**\n"
      ],
      "metadata": {
        "id": "cHzOVmWV4DQO"
      }
    },
    {
      "cell_type": "code",
      "source": [
        "EPOCHS = 20"
      ],
      "metadata": {
        "id": "MMJlgeff4DAC"
      },
      "execution_count": null,
      "outputs": []
    },
    {
      "cell_type": "code",
      "source": [
        "history = model.fit(dataset, epochs=EPOCHS, callbacks=[checkpoint_callback])"
      ],
      "metadata": {
        "id": "O4qDRCI64L-2",
        "outputId": "b0a7a5eb-e593-45d3-a308-334e8894ed35",
        "colab": {
          "base_uri": "https://localhost:8080/"
        }
      },
      "execution_count": null,
      "outputs": [
        {
          "output_type": "stream",
          "name": "stdout",
          "text": [
            "Epoch 1/20\n",
            "172/172 [==============================] - 13s 53ms/step - loss: 2.7320\n",
            "Epoch 2/20\n",
            "172/172 [==============================] - 11s 53ms/step - loss: 1.9931\n",
            "Epoch 3/20\n",
            "172/172 [==============================] - 11s 55ms/step - loss: 1.7142\n",
            "Epoch 4/20\n",
            "172/172 [==============================] - 11s 55ms/step - loss: 1.5529\n",
            "Epoch 5/20\n",
            "172/172 [==============================] - 12s 59ms/step - loss: 1.4530\n",
            "Epoch 6/20\n",
            "172/172 [==============================] - 12s 57ms/step - loss: 1.3852\n",
            "Epoch 7/20\n",
            "172/172 [==============================] - 11s 58ms/step - loss: 1.3321\n",
            "Epoch 8/20\n",
            "172/172 [==============================] - 12s 59ms/step - loss: 1.2878\n",
            "Epoch 9/20\n",
            "172/172 [==============================] - 11s 58ms/step - loss: 1.2465\n",
            "Epoch 10/20\n",
            "172/172 [==============================] - 11s 57ms/step - loss: 1.2080\n",
            "Epoch 11/20\n",
            "172/172 [==============================] - 12s 58ms/step - loss: 1.1681\n",
            "Epoch 12/20\n",
            "172/172 [==============================] - 14s 61ms/step - loss: 1.1273\n",
            "Epoch 13/20\n",
            "172/172 [==============================] - 16s 61ms/step - loss: 1.0852\n",
            "Epoch 14/20\n",
            "172/172 [==============================] - 12s 60ms/step - loss: 1.0399\n",
            "Epoch 15/20\n",
            "172/172 [==============================] - 11s 58ms/step - loss: 0.9922\n",
            "Epoch 16/20\n",
            "172/172 [==============================] - 12s 59ms/step - loss: 0.9416\n",
            "Epoch 17/20\n",
            "172/172 [==============================] - 12s 57ms/step - loss: 0.8902\n",
            "Epoch 18/20\n",
            "172/172 [==============================] - 12s 59ms/step - loss: 0.8380\n",
            "Epoch 19/20\n",
            "172/172 [==============================] - 12s 61ms/step - loss: 0.7869\n",
            "Epoch 20/20\n",
            "172/172 [==============================] - 12s 59ms/step - loss: 0.7383\n"
          ]
        }
      ]
    },
    {
      "cell_type": "markdown",
      "source": [
        "**14. Generate Teks**\n",
        "\n"
      ],
      "metadata": {
        "id": "104lRLG24OMN"
      }
    },
    {
      "cell_type": "code",
      "source": [
        "class OneStep(tf.keras.Model):\n",
        "  def __init__(self, model, chars_from_ids, ids_from_chars, temperature=1.0):\n",
        "    super().__init__()\n",
        "    self.temperature = temperature\n",
        "    self.model = model\n",
        "    self.chars_from_ids = chars_from_ids\n",
        "    self.ids_from_chars = ids_from_chars\n",
        "\n",
        "    # Create a mask to prevent \"[UNK]\" from being generated.\n",
        "    skip_ids = self.ids_from_chars(['[UNK]'])[:, None]\n",
        "    sparse_mask = tf.SparseTensor(\n",
        "        # Put a -inf at each bad index.\n",
        "        values=[-float('inf')]*len(skip_ids),\n",
        "        indices=skip_ids,\n",
        "        # Match the shape to the vocabulary\n",
        "        dense_shape=[len(ids_from_chars.get_vocabulary())])\n",
        "    self.prediction_mask = tf.sparse.to_dense(sparse_mask)\n",
        "\n",
        "  @tf.function\n",
        "  def generate_one_step(self, inputs, states=None):\n",
        "    # Convert strings to token IDs.\n",
        "    input_chars = tf.strings.unicode_split(inputs, 'UTF-8')\n",
        "    input_ids = self.ids_from_chars(input_chars).to_tensor()\n",
        "\n",
        "    # Run the model.\n",
        "    # predicted_logits.shape is [batch, char, next_char_logits]\n",
        "    predicted_logits, states = self.model(inputs=input_ids, states=states,\n",
        "                                          return_state=True)\n",
        "    # Only use the last prediction.\n",
        "    predicted_logits = predicted_logits[:, -1, :]\n",
        "    predicted_logits = predicted_logits/self.temperature\n",
        "    # Apply the prediction mask: prevent \"[UNK]\" from being generated.\n",
        "    predicted_logits = predicted_logits + self.prediction_mask\n",
        "\n",
        "    # Sample the output logits to generate token IDs.\n",
        "    predicted_ids = tf.random.categorical(predicted_logits, num_samples=1)\n",
        "    predicted_ids = tf.squeeze(predicted_ids, axis=-1)\n",
        "\n",
        "    # Convert from token ids to characters\n",
        "    predicted_chars = self.chars_from_ids(predicted_ids)\n",
        "\n",
        "    # Return the characters and model state.\n",
        "    return predicted_chars, states"
      ],
      "metadata": {
        "id": "bE4Ni5hm4Y3s"
      },
      "execution_count": null,
      "outputs": []
    },
    {
      "cell_type": "code",
      "source": [
        "one_step_model = OneStep(model, chars_from_ids, ids_from_chars)"
      ],
      "metadata": {
        "id": "Clj1O6a_4ah8"
      },
      "execution_count": null,
      "outputs": []
    },
    {
      "cell_type": "code",
      "source": [
        "start = time.time()\n",
        "states = None\n",
        "next_char = tf.constant(['ROMEO:'])\n",
        "result = [next_char]\n",
        "\n",
        "for n in range(1000):\n",
        "  next_char, states = one_step_model.generate_one_step(next_char, states=states)\n",
        "  result.append(next_char)\n",
        "\n",
        "result = tf.strings.join(result)\n",
        "end = time.time()\n",
        "print(result[0].numpy().decode('utf-8'), '\\n\\n' + '_'*80)\n",
        "print('\\nRun time:', end - start)"
      ],
      "metadata": {
        "id": "qYNw4n_84dWa",
        "colab": {
          "base_uri": "https://localhost:8080/"
        },
        "outputId": "a30c274d-b0e9-4fc8-c4bc-e9a0caa23579"
      },
      "execution_count": null,
      "outputs": [
        {
          "output_type": "stream",
          "name": "stdout",
          "text": [
            "ROMEO:\n",
            "Why, they hither be admited by the good\n",
            "Loines on thee, tastals, oursaffers, witness shall\n",
            "The sun upon your fretting gull'ds,\n",
            "Betwixt the Travel and his knaves.\n",
            "Three then, and he that blows with grief is\n",
            "on the dish of ganner light. We must be here alone:\n",
            "I never saw a few or none with our proof?\n",
            "\n",
            "RATCLIFF:\n",
            "Dispatch, Edward! further thou canst give?\n",
            "\n",
            "KING RICHARD II:\n",
            "Thou astimedies, take the king's dearer ape.\n",
            "Where is my lady's lump-how doth; the poor duke's\n",
            "counterfeit scandal; to search a quiet as twenty-tive; to report\n",
            "In hands, say indeed, command. I had rather thank thee,\n",
            "For thou shalt not naked, that fills at honest for me:\n",
            "But, like a warring seas; I will not dine untiver.\n",
            "Mercyful will be mother, beshow mine arm\n",
            "Coriolanus, what with the gravelies\n",
            "That will not have it so, and in good mind to my sweet lords,\n",
            "Will you begin with you, when you shall ha', look to your knavery.\n",
            "\n",
            "BAPTISTA:\n",
            "Why do? I see But in our pleasure here\n",
            "I cannot so: or cate in the other\n",
            "sea-caleing nea \n",
            "\n",
            "________________________________________________________________________________\n",
            "\n",
            "Run time: 3.1769206523895264\n"
          ]
        }
      ]
    },
    {
      "cell_type": "code",
      "source": [
        "start = time.time()\n",
        "states = None\n",
        "next_char = tf.constant(['ROMEO:', 'ROMEO:', 'ROMEO:', 'ROMEO:', 'ROMEO:'])\n",
        "result = [next_char]\n",
        "\n",
        "for n in range(1000):\n",
        "  next_char, states = one_step_model.generate_one_step(next_char, states=states)\n",
        "  result.append(next_char)\n",
        "\n",
        "result = tf.strings.join(result)\n",
        "end = time.time()\n",
        "print(result, '\\n\\n' + '_'*80)\n",
        "print('\\nRun time:', end - start)"
      ],
      "metadata": {
        "id": "xUUJDBG14hDX",
        "colab": {
          "base_uri": "https://localhost:8080/"
        },
        "outputId": "4b6f1288-d724-4fcd-b495-b339524c9c57"
      },
      "execution_count": null,
      "outputs": [
        {
          "output_type": "stream",
          "name": "stdout",
          "text": [
            "tf.Tensor(\n",
            "[b\"ROMEO:\\nO, sir, I tell thee your womb and favour. We have suidors him:\\nTherefore, fellow, how he made your mainyaved.\\nBut I have drawn so many of mine own.\\n\\nAUTOLYCUS:\\n'Tis nothing spect.\\nO most worthy and account myself a story\\nMut-a little found; to-morrow thereby to his pack\\nAs hither with your cretting cause to Salit.\\n\\nNORTHUMBERLAND:\\nHow far be nowned from my sovereigns,\\nAnd to deny him that I know of it; but thou wilt have\\nThou could born much blush'd attempting them;\\nAnd then let me bring my misdeeds, lawful kill\\nCommand as best by yours from out affairs,\\nStay not! then put in hell.\\n\\nHENRY BOLINGBROKE:\\nI would follow it, I beseech you,\\nWhere I find itself a man, how they had\\nOur prayers attend us by the rich mistress.'\\n\\nTRANIO:\\nAnd you are like to bed, and none can free\\nFine the wild-Lord Look on me leave.\\n\\nRICHARD:\\nGremio, 'twill so my child, with the\\nbelliest jounness with the king? where, if Norfound, madam, both by each but a\\nmistress. Of all the issue of the\\nsight-both children, b\"\n",
            " b\"ROMEO:\\n'Tis a model, good faith, how a husband mother,\\nAnd know the lut soft was worn to see how the sea\\nWhich we would apparen like bold gown and rank\\nAs with the world, the wars shall no man more the earth\\nThat ever fell unfarried toing drunk-bree his self,\\nAnd do thy great a meantime. Would they\\nlate here, till, my master plainly\\nIs not the fine your own good worldly mouths now,\\nWhen he did leave my silence in revenue with whom we toward the ground.\\nGood mother, hath a print-pock'd villain,\\nAnd yet salt watering to a fresher\\nWith twenty of themselves; fall been grief,\\nDid not have show'd me now to Romements?\\nHow now, my lord? who is it\\nMick't hath the bid of Richard sail, and nobly I perpetter\\nHer natura's colouring by answer'd for, for your\\nvengeance on the part there, it was not contented\\nTo gain be wift's death.\\n\\nFirst Watchman:\\nMy lords obly with her! Signified it back again;\\nAway with her! both in my high,\\nTo make her gravely to be hurl'd:\\nThey shall shake quiet with his eyes\\nFor him\"\n",
            " b\"ROMEO:\\nAnd you shall frank along, sir, he has in unstaid\\nTheir lossest in the throne my head;\\nOr bide the man have banish'd: then ruther high\\nAnd leaves me back again, and never to the loss.\\nOf that hunt daughter, for their own report\\nSulless suffer all good men, as this lives in the east,\\nAnd to her weep for which he did read him\\nIn money' thee. Your governments of paysity\\nWould through the witness of the Bolingbroke be;\\nThe redors ne'er lived for a curse.\\n\\nNORTHUMBERLAND:\\nRichard, you have not A too;\\nand tell me, marry, till a Richard sons,\\nThat you, my noble counsel and his lands.\\n\\nQUEEN MARGARET:\\nO prayers shall proceed:\\nI small a blow, if we give you a measure\\nTo our senses ware of ours,\\nNature dishonour to answer all the villain's daughter\\nBlessed his tread, who have the rock shall be fulf,\\nand more than when you seem'd, advise him.\\n\\nSecond Bianca:\\nFarewell, sir, a tooth; therefore, for night\\nStill none of Milan, where rid me Thumph; but well\\nMy nature death was giftered part and case,\"\n",
            " b\"ROMEO:\\nShe strange, minute-braws, nation of\\nalling; one good meal to your greatness\\nfines, such as we did: 'At thou art too most celd.\\nNay, stay; I cannot speak.\\n\\nFirst Murderer:\\nThere's in three shuty; the tribunes of the field.\\n\\nKING LEWIS XI:\\nWhat, when?\\nThe lord they he sings battless sees,\\nBut learn me 'I, gentle sir, content.\\n\\nWARWICK:\\nHis name, sweet nurse, to make happy son at all.\\nThen fare else quite like means to wail\\nThan in his lusting earthly I am, in\\nthe thrush as to Rome; that may name my husband,\\nWhich is lest too must heartily come:\\nI'll to mine honest, I will tell the work:\\nNow, by Saint Paul, they know me not;\\nAnd thou shalt know that's golden?\\n\\nShepherd:\\nLight did satisfue lamp again top-born,\\nTell thee the wised eyes groan nices in change thee!\\nBut do we shall edecutioner.\\n\\nDUKE VINCENTIO:\\nIn to, told. I see the dutting caming of\\nthe other, nor what said such news\\nAs fat of I did part the midnight.\\n\\nESCALUS:\\nEvery man, 'tis not fonsy-father butchmon, it cried\\nnights cou\"\n",
            " b\"ROMEO:\\nSweet, sooth, Paulina.\\nWhat e'er thicker be? Henry now thy lawful babes\\nThat e'er I had, they call him here;\\nBut I shall prom thou stif a horse,\\nAnd the wise was done to thee.\\n\\nCAMILLO:\\nFare you well.\\n\\nESCALUS:\\nI do think before: but what thy honour is his face,\\nAnd to the tide to hill, by my proceeders\\nMay be against all yields for his sake\\nso body that I know the kindrel of our blood\\nLess prosperity, in many vassals home,\\nBut little less our person hither should\\nBe buried again. Then shall have mine honour from the rodactery\\nWith twenty hundred thee: little for his should\\nMore amack, when apparel 'pards not title,' quoth he,\\n'Tis far off sir, I would not admit stoop\\nBut with that dooms and wedded thy way;\\nFor thingers away from thence, those way the bird,\\nHow in love as ever I lay and up:\\nThou thrust with that world from that hearing a\\nsweet-grave shoes.\\n\\nABRAHAM:\\nDo you guttle justice, in heaven and eaten's face\\nHis legs impose of grief, were you as widow's life,\\nI know not what to\"], shape=(5,), dtype=string) \n",
            "\n",
            "________________________________________________________________________________\n",
            "\n",
            "Run time: 3.880222797393799\n"
          ]
        }
      ]
    },
    {
      "cell_type": "markdown",
      "source": [
        "**15. Ekspor Model Generator**\n",
        "\n"
      ],
      "metadata": {
        "id": "diCLulx-4i5i"
      }
    },
    {
      "cell_type": "code",
      "source": [
        "tf.saved_model.save(one_step_model, 'one_step')\n",
        "one_step_reloaded = tf.saved_model.load('one_step')"
      ],
      "metadata": {
        "id": "uFKd0vL74nBC",
        "colab": {
          "base_uri": "https://localhost:8080/"
        },
        "outputId": "ffbb34ef-c82f-4e11-c562-7d20357af22a"
      },
      "execution_count": null,
      "outputs": [
        {
          "output_type": "stream",
          "name": "stderr",
          "text": [
            "WARNING:tensorflow:Skipping full serialization of Keras layer <__main__.OneStep object at 0x7c5312cb3820>, because it is not built.\n",
            "WARNING:tensorflow:Model's `__init__()` arguments contain non-serializable objects. Please implement a `get_config()` method in the subclassed Model for proper saving and loading. Defaulting to empty config.\n",
            "WARNING:tensorflow:Model's `__init__()` arguments contain non-serializable objects. Please implement a `get_config()` method in the subclassed Model for proper saving and loading. Defaulting to empty config.\n"
          ]
        }
      ]
    },
    {
      "cell_type": "code",
      "source": [
        "states = None\n",
        "next_char = tf.constant(['ROMEO:'])\n",
        "result = [next_char]\n",
        "\n",
        "for n in range(100):\n",
        "  next_char, states = one_step_reloaded.generate_one_step(next_char, states=states)\n",
        "  result.append(next_char)\n",
        "\n",
        "print(tf.strings.join(result)[0].numpy().decode(\"utf-8\"))"
      ],
      "metadata": {
        "id": "DcWEuzu-4oIx",
        "colab": {
          "base_uri": "https://localhost:8080/"
        },
        "outputId": "9ed39d85-91e0-49b7-b34b-c2d7d40dbc37"
      },
      "execution_count": null,
      "outputs": [
        {
          "output_type": "stream",
          "name": "stdout",
          "text": [
            "ROMEO:\n",
            "My queen?\n",
            "\n",
            "GRUMIO:\n",
            "Why look you so often?\n",
            "\n",
            "WESTMORELAND:\n",
            "MARI wrong him, I am resolved: the very nu\n"
          ]
        }
      ]
    },
    {
      "cell_type": "markdown",
      "source": [
        "---\n",
        "## **TUGAS**\n"
      ],
      "metadata": {
        "id": "S3jiSgHnGc_m"
      }
    },
    {
      "cell_type": "markdown",
      "source": [
        "Prosedur pelatihan pada praktikum 2 merupakan prosedur sederhana, yang tidak memberi Anda banyak kendali. Model ini menggunakan \"teacher-forcing\" yang mencegah prediksi buruk diumpankan kembali ke model, sehingga model tidak pernah belajar untuk pulih dari kesalahan. Jadi, setelah Anda melihat cara menjalankan model secara manual, selanjutnya Anda akan mengimplementasikan custom loop pelatihan. Hal ini memberikan titik awal jika, misalnya, Anda ingin menerapkan pembelajaran kurikulum untuk membantu menstabilkan keluaran open-loop model. Bagian terpenting dari loop pelatihan khusus adalah fungsi langkah pelatihan.\n",
        "\n",
        "\n",
        "Gunakan `tf.GradientTape` untuk men track nilai gradient. Anda dapat mempelajari lebih lanjut tentang pendekatan ini dengan membaca `eager execution guide`.\n",
        "\n",
        "Prosedurnya adalah \"\n",
        "1. Jalankan Model dan hitung loss dengan tf.GradientTape.\n",
        "2. Hitung update dan terapkan pada model dengan optimizer"
      ],
      "metadata": {
        "id": "Hv-rOEaDGc_n"
      }
    },
    {
      "cell_type": "code",
      "source": [
        "class CustomTraining(MyModel):\n",
        "  @tf.function\n",
        "  def train_step(self, inputs):\n",
        "      inputs, labels = inputs\n",
        "      with tf.GradientTape() as tape:\n",
        "          predictions = self(inputs, training=True)\n",
        "          loss = self.loss(labels, predictions)\n",
        "      grads = tape.gradient(loss, model.trainable_variables)\n",
        "      self.optimizer.apply_gradients(zip(grads, model.trainable_variables))\n",
        "\n",
        "      return {'loss': loss}"
      ],
      "metadata": {
        "id": "cGTDVbBIGqy0"
      },
      "execution_count": null,
      "outputs": []
    },
    {
      "cell_type": "markdown",
      "source": [
        "Kode diatas menerapkan `train_step method` sesuai dengan  `Keras' train_step conventions`. Ini opsional, tetapi memungkinkan Anda mengubah perilaku langkah pelatihan dan tetap menggunakan keras `Model.compile` and `Model.fit methods`."
      ],
      "metadata": {
        "id": "hdmva3WgHC_w"
      }
    },
    {
      "cell_type": "code",
      "source": [
        "model = CustomTraining(\n",
        "    vocab_size=len(ids_from_chars.get_vocabulary()),\n",
        "    embedding_dim=embedding_dim,\n",
        "    rnn_units=rnn_units)"
      ],
      "metadata": {
        "id": "KPli1Z5fHJll"
      },
      "execution_count": null,
      "outputs": []
    },
    {
      "cell_type": "code",
      "source": [
        "model.compile(optimizer = tf.keras.optimizers.Adam(),\n",
        "              loss=tf.keras.losses.SparseCategoricalCrossentropy(from_logits=True))"
      ],
      "metadata": {
        "id": "EgqFVIeGHLK1"
      },
      "execution_count": null,
      "outputs": []
    },
    {
      "cell_type": "code",
      "source": [
        "model.fit(dataset, epochs=1)"
      ],
      "metadata": {
        "id": "wa3YMy7IHMsu",
        "outputId": "daa34f8a-3fb0-4c05-acfb-c067dd0a2615",
        "colab": {
          "base_uri": "https://localhost:8080/"
        }
      },
      "execution_count": null,
      "outputs": [
        {
          "output_type": "stream",
          "name": "stdout",
          "text": [
            "172/172 [==============================] - 15s 60ms/step - loss: 2.7175\n"
          ]
        },
        {
          "output_type": "execute_result",
          "data": {
            "text/plain": [
              "<keras.src.callbacks.History at 0x7c5312c4a0b0>"
            ]
          },
          "metadata": {},
          "execution_count": 53
        }
      ]
    },
    {
      "cell_type": "markdown",
      "source": [
        "Atau jika ingin lebih mengetahui dalamnya, kita bisa membuat custom training loop sendiri:"
      ],
      "metadata": {
        "id": "PT8M-0QVHOq_"
      }
    },
    {
      "cell_type": "code",
      "source": [
        "EPOCHS = 10\n",
        "\n",
        "mean = tf.metrics.Mean()\n",
        "\n",
        "for epoch in range(EPOCHS):\n",
        "    start = time.time()\n",
        "\n",
        "    mean.reset_states()\n",
        "    for (batch_n, (inp, target)) in enumerate(dataset):\n",
        "        logs = model.train_step([inp, target])\n",
        "        mean.update_state(logs['loss'])\n",
        "\n",
        "        if batch_n % 50 == 0:\n",
        "            template = f\"Epoch {epoch+1} Batch {batch_n} Loss {logs['loss']:.4f}\"\n",
        "            print(template)\n",
        "\n",
        "    # saving (checkpoint) the model every 5 epochs\n",
        "    if (epoch + 1) % 5 == 0:\n",
        "        model.save_weights(checkpoint_prefix.format(epoch=epoch))\n",
        "\n",
        "    print()\n",
        "    print(f'Epoch {epoch+1} Loss: {mean.result().numpy():.4f}')\n",
        "    print(f'Time taken for 1 epoch {time.time() - start:.2f} sec')\n",
        "    print(\"_\"*80)\n",
        "\n",
        "model.save_weights(checkpoint_prefix.format(epoch=epoch))"
      ],
      "metadata": {
        "id": "k8qoKbNQHQ1_",
        "outputId": "f429b099-aab1-49f3-9156-c8fde52ccbe7",
        "colab": {
          "base_uri": "https://localhost:8080/"
        }
      },
      "execution_count": null,
      "outputs": [
        {
          "output_type": "stream",
          "name": "stdout",
          "text": [
            "Epoch 1 Batch 0 Loss 2.1715\n",
            "Epoch 1 Batch 50 Loss 2.0496\n",
            "Epoch 1 Batch 100 Loss 1.9365\n",
            "Epoch 1 Batch 150 Loss 1.8391\n",
            "\n",
            "Epoch 1 Loss: 1.9909\n",
            "Time taken for 1 epoch 14.06 sec\n",
            "________________________________________________________________________________\n",
            "Epoch 2 Batch 0 Loss 1.8494\n",
            "Epoch 2 Batch 50 Loss 1.7712\n",
            "Epoch 2 Batch 100 Loss 1.6242\n",
            "Epoch 2 Batch 150 Loss 1.6245\n",
            "\n",
            "Epoch 2 Loss: 1.7151\n",
            "Time taken for 1 epoch 11.13 sec\n",
            "________________________________________________________________________________\n",
            "Epoch 3 Batch 0 Loss 1.6375\n",
            "Epoch 3 Batch 50 Loss 1.5644\n",
            "Epoch 3 Batch 100 Loss 1.5573\n",
            "Epoch 3 Batch 150 Loss 1.5115\n",
            "\n",
            "Epoch 3 Loss: 1.5533\n",
            "Time taken for 1 epoch 11.47 sec\n",
            "________________________________________________________________________________\n",
            "Epoch 4 Batch 0 Loss 1.4421\n",
            "Epoch 4 Batch 50 Loss 1.4348\n",
            "Epoch 4 Batch 100 Loss 1.4589\n",
            "Epoch 4 Batch 150 Loss 1.4441\n",
            "\n",
            "Epoch 4 Loss: 1.4534\n",
            "Time taken for 1 epoch 11.85 sec\n",
            "________________________________________________________________________________\n",
            "Epoch 5 Batch 0 Loss 1.4131\n",
            "Epoch 5 Batch 50 Loss 1.4359\n",
            "Epoch 5 Batch 100 Loss 1.3841\n",
            "Epoch 5 Batch 150 Loss 1.3252\n",
            "\n",
            "Epoch 5 Loss: 1.3850\n",
            "Time taken for 1 epoch 20.59 sec\n",
            "________________________________________________________________________________\n",
            "Epoch 6 Batch 0 Loss 1.3149\n",
            "Epoch 6 Batch 50 Loss 1.3622\n",
            "Epoch 6 Batch 100 Loss 1.3655\n",
            "Epoch 6 Batch 150 Loss 1.3222\n",
            "\n",
            "Epoch 6 Loss: 1.3321\n",
            "Time taken for 1 epoch 11.07 sec\n",
            "________________________________________________________________________________\n",
            "Epoch 7 Batch 0 Loss 1.2927\n",
            "Epoch 7 Batch 50 Loss 1.2849\n",
            "Epoch 7 Batch 100 Loss 1.3108\n",
            "Epoch 7 Batch 150 Loss 1.2339\n",
            "\n",
            "Epoch 7 Loss: 1.2868\n",
            "Time taken for 1 epoch 11.29 sec\n",
            "________________________________________________________________________________\n",
            "Epoch 8 Batch 0 Loss 1.2265\n",
            "Epoch 8 Batch 50 Loss 1.2526\n",
            "Epoch 8 Batch 100 Loss 1.2601\n",
            "Epoch 8 Batch 150 Loss 1.2567\n",
            "\n",
            "Epoch 8 Loss: 1.2455\n",
            "Time taken for 1 epoch 11.21 sec\n",
            "________________________________________________________________________________\n",
            "Epoch 9 Batch 0 Loss 1.1784\n",
            "Epoch 9 Batch 50 Loss 1.1840\n",
            "Epoch 9 Batch 100 Loss 1.2001\n",
            "Epoch 9 Batch 150 Loss 1.2183\n",
            "\n",
            "Epoch 9 Loss: 1.2055\n",
            "Time taken for 1 epoch 11.08 sec\n",
            "________________________________________________________________________________\n",
            "Epoch 10 Batch 0 Loss 1.1321\n",
            "Epoch 10 Batch 50 Loss 1.1184\n",
            "Epoch 10 Batch 100 Loss 1.1789\n",
            "Epoch 10 Batch 150 Loss 1.2046\n",
            "\n",
            "Epoch 10 Loss: 1.1658\n",
            "Time taken for 1 epoch 11.21 sec\n",
            "________________________________________________________________________________\n"
          ]
        }
      ]
    },
    {
      "cell_type": "markdown",
      "source": [
        "Jalankan kode diatas dan sebutkan perbedaanya dengan praktikum 2?"
      ],
      "metadata": {
        "id": "mcrixkakHdZr"
      }
    },
    {
      "cell_type": "markdown",
      "source": [
        "Terdapat beberapa perbedaan utama antara praktikum 2 dan pelatihan tugas yang jalankan:\n",
        "\n",
        "1. **Model Architectures**:\n",
        "   Praktikum 2 menggunakan model yang lebih sederhana yaitu RNN (Recurrent Neural Network), sementara pelatihan tugas menggunakan model yang lebih kompleks yaitu GRU (Gated Recurrent Unit).\n",
        "\n",
        "2. **Epochs**:\n",
        "   Praktikum 2, menjalankan model selama 20 epoch, sedangkan dalam pelatihan tugas, pelatihan model selama 10 epoch.\n",
        "\n",
        "3. **Prosedur Pelatihan**:\n",
        "   Praktikum 2 lebih sederhana dalam hal pelatihan dan menggunakan API model.fit() bawaan Keras sedangkan dalam pelatihan tugas,  mengimplementasikan loop pelatihan khusus dengan menggunakan train_step, yang memberikan lebih banyak kontrol atas proses pelatihan.\n",
        "\n",
        "4. **Output Hasil Pelatihan**:\n",
        "   Output dari praktikum 2 adalah informasi singkat tentang loss selama pelatihan sedangkan dalam pelatihan tugas, menghasilkan informasi yang lebih lengkap dengan mencantumkan loss untuk setiap batch dan untuk setiap epoch, serta waktu yang diperlukan untuk menjalankan setiap epoch.\n",
        "\n",
        "5. **Waktu Eksekusi**:\n",
        "   Praktikum 2 mungkin lebih cepat karena model sederhana dengan 20 epoch, sedangkan pelatihan tugas lebih lama karena 10 epoch dan menggunakan model yang lebih kompleks.\n"
      ],
      "metadata": {
        "id": "Sdmo-jQdM_Hs"
      }
    }
  ]
}